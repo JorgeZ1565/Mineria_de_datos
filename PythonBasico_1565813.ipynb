{
 "cells": [
  {
   "cell_type": "code",
   "execution_count": 2,
   "metadata": {},
   "outputs": [
    {
     "name": "stdout",
     "output_type": "stream",
     "text": [
      "Hola mundo!!\n"
     ]
    }
   ],
   "source": [
    "print (\"Hola mundo!!\")"
   ]
  },
  {
   "cell_type": "markdown",
   "metadata": {},
   "source": [
    "# Ejercicio 1\n",
    "Realizar una variable con tu matrícula y realiza una secuencia de imprimir con tu nombre y matricula concatenados\n",
    "\n",
    "Programa 2 Matemáticas sencillas"
   ]
  },
  {
   "cell_type": "code",
   "execution_count": 4,
   "metadata": {},
   "outputs": [
    {
     "name": "stdout",
     "output_type": "stream",
     "text": [
      "1000000 500000 60000 5000 800 10 3 1565813\n",
      "Mi matricula es : 1565813\n"
     ]
    }
   ],
   "source": [
    "a=1000000\n",
    "b=500000\n",
    "c=60000\n",
    "d=5000\n",
    "e=800\n",
    "f=10\n",
    "g=3\n",
    "h=a+b+c+d+e+f+g\n",
    "print(a,b,c,d,e,f,g,h)\n",
    "\n",
    "print(\"Mi matricula es :\",h)"
   ]
  },
  {
   "cell_type": "markdown",
   "metadata": {},
   "source": [
    "Input del Usuario:"
   ]
  },
  {
   "cell_type": "code",
   "execution_count": 7,
   "metadata": {},
   "outputs": [
    {
     "name": "stdin",
     "output_type": "stream",
     "text": [
      "Introduce tu nombre:  Jorge\n",
      "Introduce tu apellido:  Zuniga\n"
     ]
    },
    {
     "name": "stdout",
     "output_type": "stream",
     "text": [
      "Mi nombre es:  Jorge Zuniga y mi matricula es:  1565813\n"
     ]
    }
   ],
   "source": [
    "a1= input(\"Introduce tu nombre: \")\n",
    "b1= input(\"Introduce tu apellido: \")\n",
    "\n",
    "print(\"Mi nombre es: \", a1,b1, \"y mi matricula es: \",h)"
   ]
  },
  {
   "cell_type": "markdown",
   "metadata": {},
   "source": [
    "# Ejercicio 2\n",
    "\n",
    "Pidiendo el input del usuario pide dos números y crea una pequeña calculadora con los operadores básicos de suma, resta, multiplicación, división, y exponente."
   ]
  },
  {
   "cell_type": "code",
   "execution_count": 8,
   "metadata": {},
   "outputs": [
    {
     "name": "stdin",
     "output_type": "stream",
     "text": [
      "Introduce el primer número: 9\n",
      "Introduce el segundo número: 13\n"
     ]
    },
    {
     "name": "stdout",
     "output_type": "stream",
     "text": [
      "La suma de 9 más 13 es: 22\n",
      "La resta de 9 menos 13 es: -4\n",
      "La resta de 13 menos 9 es: 4\n",
      "La multiplicación de 9 por 13 es: 117\n",
      "La división de 9 entre 13 es: 0.6923076923076923\n",
      "La división de 13 entre 9 es: 1.4444444444444444\n",
      "9 elevado a la 13 es: 2541865828329\n",
      "13 elevado a la 9 es: 10604499373\n"
     ]
    }
   ],
   "source": [
    "n1= int(input(\"Introduce el primer número:\"))\n",
    "n2= int(input(\"Introduce el segundo número:\"))\n",
    "\n",
    "suma= n1+n2\n",
    "resta1= n1-n2\n",
    "resta2= n2-n1\n",
    "mult= n1*n2\n",
    "div1= n1/n2\n",
    "div2= n2/n1\n",
    "exp1= n1**n2\n",
    "exp2= n2**n1\n",
    "\n",
    "print(\"La suma de\", n1, \"más\", n2, \"es:\", suma)\n",
    "print(\"La resta de\", n1, \"menos\", n2,\"es:\", resta1)\n",
    "print(\"La resta de\", n2, \"menos\", n1,\"es:\", resta2)\n",
    "print(\"La multiplicación de\", n1, \"por\", n2, \"es:\", mult)\n",
    "print(\"La división de\", n1, \"entre\", n2, \"es:\", div1)\n",
    "print(\"La división de\", n2, \"entre\", n1, \"es:\", div2)\n",
    "print(n1, \"elevado a la\", n2, \"es:\", exp1)\n",
    "print(n2, \"elevado a la\", n1, \"es:\", exp2)"
   ]
  },
  {
   "cell_type": "markdown",
   "metadata": {},
   "source": [
    "# Ejercicio 3\n",
    "Con loop while o for, realiza una lista de 10 numeros multiplos de 3, y después realiza una función de loop que sume todos los números dentro del arreglo."
   ]
  },
  {
   "cell_type": "code",
   "execution_count": 9,
   "metadata": {},
   "outputs": [
    {
     "name": "stdout",
     "output_type": "stream",
     "text": [
      "La lista de 10 números multiplos de 3: [3, 6, 9, 12, 15, 18, 21, 24, 27, 30]\n",
      "La suma es de nuestro vector de números multiplos de 3 es: 165\n"
     ]
    }
   ],
   "source": [
    "i=1\n",
    "lista=[]\n",
    "\n",
    "for i in range(1,31):\n",
    "    if i%3==0:\n",
    "        lista.append(i)\n",
    "i=i+1\n",
    "\n",
    "print(\"La lista de 10 números multiplos de 3:\",lista)\n",
    "print(\"La suma es de nuestro vector de números multiplos de 3 es:\",sum(lista))"
   ]
  },
  {
   "cell_type": "markdown",
   "metadata": {},
   "source": [
    "# Ejercicio 4\n",
    "Con una función de if else, revisar si un número es par o es impar.\n",
    "Con una función de if else, revisar si un número es primo o no."
   ]
  },
  {
   "cell_type": "code",
   "execution_count": 10,
   "metadata": {},
   "outputs": [
    {
     "name": "stdin",
     "output_type": "stream",
     "text": [
      "Selecciona un número:  13\n"
     ]
    },
    {
     "name": "stdout",
     "output_type": "stream",
     "text": [
      "El número 13 es impar\n"
     ]
    }
   ],
   "source": [
    "num=int(input(\"Selecciona un número: \"))\n",
    "\n",
    "if num%2==0:\n",
    "    print(\"El número\", num, \"es par\")\n",
    "else:\n",
    "    print(\"El número\", num, \"es impar\")"
   ]
  },
  {
   "cell_type": "code",
   "execution_count": 11,
   "metadata": {},
   "outputs": [
    {
     "name": "stdin",
     "output_type": "stream",
     "text": [
      "Selecciona un número:  45\n"
     ]
    },
    {
     "name": "stdout",
     "output_type": "stream",
     "text": [
      "El número 45 no es primo\n"
     ]
    }
   ],
   "source": [
    "num2=int(input(\"Selecciona un número: \"))\n",
    "i=0\n",
    "aux=0\n",
    "\n",
    "for i in range (2,num2-1):\n",
    "    if num2%i==0:\n",
    "        aux= aux+1\n",
    "i=i+1\n",
    "\n",
    "if aux>0:\n",
    "    print(\"El número\", num2,\"no es primo\")\n",
    "else:\n",
    "    print (\"El número\", num2, \"es primo\")"
   ]
  },
  {
   "cell_type": "markdown",
   "metadata": {},
   "source": [
    "# Ejercicio 5\n",
    "Utilizando diferentes clases en python, crea una calculadora con los operadores básicos de suma, resta, multiplicación, división, y exponente."
   ]
  },
  {
   "cell_type": "code",
   "execution_count": 12,
   "metadata": {},
   "outputs": [
    {
     "name": "stdin",
     "output_type": "stream",
     "text": [
      "Introduce el primer número: 10\n",
      "Introduce el segundo número: 30\n"
     ]
    },
    {
     "name": "stdout",
     "output_type": "stream",
     "text": [
      "La suma de 10 más 30 es: 40\n",
      "La resta de 10 menos 30 es: -20\n",
      "La resta de 30 menos 10 es: 20\n",
      "La multiplicación de 10 por 30 es: 300\n",
      "La división de 10 entre 30 es: 0.3333333333333333\n",
      "La división de 30 entre 10 es: 3.0\n",
      "10 elevado a la 30 es: 1e+30\n",
      "30 elevado a la 10 es: 590490000000000.0\n"
     ]
    }
   ],
   "source": [
    "import math as m\n",
    "\n",
    "n1= int(input(\"Introduce el primer número:\"))\n",
    "n2= int(input(\"Introduce el segundo número:\"))\n",
    "\n",
    "suma= n1+n2\n",
    "resta1= n1-n2\n",
    "resta2= n2-n1\n",
    "mult= n1*n2\n",
    "div1= n1/n2\n",
    "div2= n2/n1\n",
    "exp1= m.pow(n1,n2)\n",
    "exp2= m.pow(n2,n1)\n",
    "\n",
    "print(\"La suma de\", n1, \"más\", n2, \"es:\", suma)\n",
    "print(\"La resta de\", n1, \"menos\", n2,\"es:\", resta1)\n",
    "print(\"La resta de\", n2, \"menos\", n1,\"es:\", resta2)\n",
    "print(\"La multiplicación de\", n1, \"por\", n2, \"es:\", mult)\n",
    "print(\"La división de\", n1, \"entre\", n2, \"es:\", div1)\n",
    "print(\"La división de\", n2, \"entre\", n1, \"es:\", div2)\n",
    "print(n1, \"elevado a la\", n2, \"es:\", exp1)\n",
    "print(n2, \"elevado a la\", n1, \"es:\", exp2)"
   ]
  },
  {
   "cell_type": "markdown",
   "metadata": {},
   "source": [
    "# Ejercicios con estructura básica de Python\n",
    "**Tuplas**\n",
    "\n",
    "Crear una variable flotante, integer, boleana y compleja e imprimir el tipo de variable que es."
   ]
  },
  {
   "cell_type": "code",
   "execution_count": 13,
   "metadata": {},
   "outputs": [
    {
     "name": "stdout",
     "output_type": "stream",
     "text": [
      "0.01     su tipo es <class 'float'>\n",
      "5     su tipo es <class 'int'>\n",
      "True     su tipo es <class 'bool'>\n",
      "(2+3j)     su tipo es <class 'complex'>\n"
     ]
    }
   ],
   "source": [
    "tupla=(0.01,5,True,2+3j)\n",
    "for i in range (len(tupla)):\n",
    "    print(tupla[i], \"    su tipo es\", type(tupla[i]))"
   ]
  },
  {
   "cell_type": "markdown",
   "metadata": {},
   "source": [
    "Crear una tupla con valores enteros imprimir el primer y ultimo valor.\n"
   ]
  },
  {
   "cell_type": "code",
   "execution_count": 16,
   "metadata": {},
   "outputs": [
    {
     "name": "stdout",
     "output_type": "stream",
     "text": [
      "Su primer valor es: 5\n",
      "Su ultimo valor es: 7\n"
     ]
    }
   ],
   "source": [
    "tupla=(5,3,2,3,9,10,7)\n",
    "print (\"Su primer valor es:\", tupla[0])\n",
    "print (\"Su ultimo valor es:\", tupla[len(tupla)-1])"
   ]
  },
  {
   "cell_type": "markdown",
   "metadata": {},
   "source": [
    "Añadir 3 valores de string a la tupla"
   ]
  },
  {
   "cell_type": "code",
   "execution_count": 17,
   "metadata": {},
   "outputs": [
    {
     "name": "stdout",
     "output_type": "stream",
     "text": [
      "(5, 6, 1, 2, 3, 9, 7, 'Jorge', 'Noé', 'Zuñiga')\n"
     ]
    }
   ],
   "source": [
    "tupla=(5,6,1,2,3,9,7)\n",
    "tuplalista=list(tupla)\n",
    "tuplalista.append(\"Jorge\")\n",
    "tuplalista.append(\"Noé\")\n",
    "tuplalista.append(\"Zuñiga\")\n",
    "\n",
    "tuplafin= tuple(tuplalista)\n",
    "print(tuplafin)"
   ]
  },
  {
   "cell_type": "markdown",
   "metadata": {},
   "source": [
    "Verificar si una variable existe dentro de la tupla"
   ]
  },
  {
   "cell_type": "code",
   "execution_count": 18,
   "metadata": {},
   "outputs": [
    {
     "name": "stdin",
     "output_type": "stream",
     "text": [
      "Ingrese el valor a buscar:  12\n"
     ]
    },
    {
     "name": "stdout",
     "output_type": "stream",
     "text": [
      "El valor 12 no está dentro de la tupla\n"
     ]
    }
   ],
   "source": [
    "aux=0\n",
    "tupla=(5,3,2,3,9,10,7)\n",
    "valor= int(input(\"Ingrese el valor a buscar: \"))\n",
    "\n",
    "for i in range (len(tupla)):\n",
    "    if valor==tupla[i]:\n",
    "        aux=aux+1\n",
    "        \n",
    "if aux==0:\n",
    "    print(\"El valor\", valor, \"no está dentro de la tupla\")\n",
    "else:\n",
    "    print(\"El valor\", valor, \"está dentro de la tupla\")"
   ]
  },
  {
   "cell_type": "markdown",
   "metadata": {},
   "source": [
    "# Listas\n",
    "\n",
    "Crear una lista con 40 elementos aleatorios enteros.\n"
   ]
  },
  {
   "cell_type": "code",
   "execution_count": 19,
   "metadata": {},
   "outputs": [
    {
     "name": "stdout",
     "output_type": "stream",
     "text": [
      "[84, 78, 85, 46, 25, 7, 83, 8, 73, 64, 88, 27, 27, 25, 83, 93, 26, 78, 70, 8, 75, 30, 94, 58, 14, 19, 100, 33, 100, 54, 11, 73, 65, 70, 91, 3, 50, 4, 56, 75]\n"
     ]
    }
   ],
   "source": [
    "import random as r\n",
    "i=0\n",
    "lista=[]\n",
    "\n",
    "for i in range(40):\n",
    "    val=r.randint(1,100)\n",
    "    lista.append(val)\n",
    "print(lista)"
   ]
  },
  {
   "cell_type": "markdown",
   "metadata": {},
   "source": [
    "Con una funcion (def) crear dos listas nuevas a partir de la lista creada por numeros aleatorios, en la cual en una esten los elementos pares, y en la otra los elementos impares.\n",
    "Crear dos variables con la longitud de ambas listas nuevas e imprimir las variables.\n",
    "Ordenar los elementos de la lista par de mayor a menor, y los de la lista impar de menor a mayor."
   ]
  },
  {
   "cell_type": "code",
   "execution_count": 20,
   "metadata": {},
   "outputs": [
    {
     "name": "stdout",
     "output_type": "stream",
     "text": [
      "La lista completa es:  [46, 61, 1, 49, 58, 54, 34, 64, 11, 83, 50, 6, 6, 14, 75, 81, 53, 35, 68, 61, 83, 22, 28, 9, 94, 57, 10, 39, 55, 88, 97, 86, 18, 37, 39, 46, 75, 31, 85, 31]\n",
      "La longitud de la lista completa es:  40\n",
      "La lista de los pares es:  [46, 58, 54, 34, 64, 50, 6, 6, 14, 68, 22, 28, 94, 10, 88, 86, 18, 46]\n",
      "La lista de los impares es:  [61, 1, 49, 11, 83, 75, 81, 53, 35, 61, 83, 9, 57, 39, 55, 97, 37, 39, 75, 31, 85, 31]\n",
      "La longitud de la lista de los pares es:  18\n",
      "La longitud de la lista de los impares es:  22\n",
      "La lista de los numeros pares ordenados de mayor a menor es:  [94, 88, 86, 68, 64, 58, 54, 50, 46, 46, 34, 28, 22, 18, 14, 10, 6, 6]\n",
      "La lista de los numeros impares ordenados de menor a mayor es:  [1, 9, 11, 31, 31, 35, 37, 39, 39, 49, 53, 55, 57, 61, 61, 75, 75, 81, 83, 83, 85, 97]\n"
     ]
    }
   ],
   "source": [
    "import random as r\n",
    "i=0\n",
    "lista=[]\n",
    "\n",
    "for i in range(40):\n",
    "    val=r.randint(1,100)\n",
    "    lista.append(val)\n",
    "print(\"La lista completa es: \",lista)\n",
    "print(\"La longitud de la lista completa es: \",len(lista))\n",
    "def separar(l):\n",
    "    j=0\n",
    "    listapares=[]\n",
    "    listaimpares=[]\n",
    "    \n",
    "    #aqui verificamos si cada numero de nuestro vector es par o impar usando mod\n",
    "    for j in range(40):\n",
    "        if lista[j] % 2 == 0:\n",
    "            listapares.append(lista[j])\n",
    "        else:\n",
    "            listaimpares.append(lista[j])\n",
    "            \n",
    "    #usamos la funcion de len y de sorted para verificar la longitud de nuestros vectores y acomodar nuestros numeros respectivamente\n",
    "    print(\"La lista de los pares es: \", listapares)\n",
    "    print(\"La lista de los impares es: \", listaimpares)\n",
    "    print(\"La longitud de la lista de los pares es: \",len(listapares))\n",
    "    print(\"La longitud de la lista de los impares es: \",len(listaimpares))\n",
    "    print(\"La lista de los numeros pares ordenados de mayor a menor es: \", sorted(listapares,reverse=True))\n",
    "    print(\"La lista de los numeros impares ordenados de menor a mayor es: \", sorted(listaimpares))\n",
    "    \n",
    "separar(lista)"
   ]
  },
  {
   "cell_type": "markdown",
   "metadata": {},
   "source": [
    "Utilizar al menos cuatro de las funciones de listas en python en la lista original de 40 elementos."
   ]
  },
  {
   "cell_type": "code",
   "execution_count": 21,
   "metadata": {},
   "outputs": [
    {
     "name": "stdout",
     "output_type": "stream",
     "text": [
      "[12, 12, 80, 83, 79, 64, 77, 88, 76, 83, 83, 83, 22, 21, 96, 86, 12, 32, 56, 32]\n",
      "La suma de la lista es: 1177\n",
      "La longitud de la lista es: 20\n",
      "El número mayor de la lista es: 96\n",
      "El número menor de la lista es: 12\n"
     ]
    }
   ],
   "source": [
    "import random as r\n",
    "i=0\n",
    "lista=[]\n",
    "\n",
    "for i in range(20):\n",
    "    val=r.randint(1,100)\n",
    "    lista.append(val)\n",
    "print(lista)\n",
    "\n",
    "print(\"La suma de la lista es:\", sum(lista))\n",
    "print(\"La longitud de la lista es:\", len(lista))\n",
    "print(\"El número mayor de la lista es:\", max(lista))\n",
    "print(\"El número menor de la lista es:\", min(lista))"
   ]
  },
  {
   "cell_type": "markdown",
   "metadata": {},
   "source": [
    "\n",
    "Diccionarios Crear un diccionario de 6 personas que conozcas con su primer nombre y su edad.\n",
    "Crear una lista con los valores de la edad y reacomodar la lista de menor a mayor valor.\n",
    "Usando el diccionario y un loop, imprimir solo los nombres.\n",
    "Añadir dos personas nuevas a tu diccionario, incluyendo edad."
   ]
  },
  {
   "cell_type": "markdown",
   "metadata": {},
   "source": [
    "Este no lo pude hacer :("
   ]
  },
  {
   "cell_type": "markdown",
   "metadata": {},
   "source": [
    "# Sets\n",
    "\n",
    "Crea un set con 100 numeros aleatorios enteros del 1 al 25.\n",
    "Comprueba la longitud de tu set.\n",
    "Crea una lista de 5 numeros aleatorios del 1 al 10 y comprueba si cada valor aparece en el set inicial.\n",
    "\n"
   ]
  },
  {
   "cell_type": "code",
   "execution_count": 4,
   "metadata": {},
   "outputs": [
    {
     "name": "stdout",
     "output_type": "stream",
     "text": [
      "La lista completa es:  [15, 17, 24, 18, 12, 14, 9, 24, 1, 22, 22, 10, 12, 1, 20, 8, 15, 16, 17, 16, 11, 9, 21, 24, 21, 8, 3, 6, 19, 6, 6, 23, 12, 24, 2, 9, 11, 3, 17, 10, 7, 15, 19, 10, 11, 15, 17, 8, 13, 10, 23, 25, 3, 9, 25, 10, 2, 11, 23, 15, 22, 6, 9, 5, 3, 5, 13, 13, 23, 15, 3, 1, 24, 20, 17, 23, 15, 22, 22, 14, 2, 20, 20, 8, 2, 16, 18, 2, 18, 1, 4, 3, 17, 14, 15, 9, 9, 2, 21, 17]\n",
      "la longitud del set 1 es:  100\n",
      "Los numeros de la lista 2 son:  [6, 7, 7, 5, 3]\n",
      "Estos son los valores que aparecen en el set inicial:  {5, 6, 7}\n"
     ]
    }
   ],
   "source": [
    "import random as r\n",
    "\n",
    "#aqui generamos 100 numeros aleatorios del 1 a 25\n",
    "i=0\n",
    "lista=[]\n",
    "\n",
    "for i in range(100):\n",
    "    val=r.randint(1,25)\n",
    "    lista.append(val)\n",
    "print(\"La lista completa es: \",lista)\n",
    "\n",
    "\n",
    "print(\"la longitud del set 1 es: \",len(lista))\n",
    "\n",
    "\n",
    "\n",
    "\n",
    "\n",
    "#aqui generamos 5 numeros aleatorios del 1 a 10\n",
    "set2=[]\n",
    "\n",
    "for i in range(5):\n",
    "    val2=r.randint(1,10)\n",
    "    set2.append(val2)\n",
    "print(\"Los numeros de la lista 2 son: \",set2)\n",
    "\n",
    "\n",
    "\n",
    "\n",
    "#aqui comparamos si los datos del set 2 aparencen en el set 1 y al final los imprimimos\n",
    "set3=[]\n",
    "i=0\n",
    "j=0\n",
    "for j in range(99):\n",
    "    for i in range(4):\n",
    "        if set2[i]==lista[j]:\n",
    "            val3 = set2[i]\n",
    "            set3.append(val3)\n",
    "           \n",
    "print(\"Estos son los valores que aparecen en el set inicial: \", set(set3))"
   ]
  },
  {
   "cell_type": "code",
   "execution_count": null,
   "metadata": {},
   "outputs": [],
   "source": []
  }
 ],
 "metadata": {
  "kernelspec": {
   "display_name": "Python 3",
   "language": "python",
   "name": "python3"
  },
  "language_info": {
   "codemirror_mode": {
    "name": "ipython",
    "version": 3
   },
   "file_extension": ".py",
   "mimetype": "text/x-python",
   "name": "python",
   "nbconvert_exporter": "python",
   "pygments_lexer": "ipython3",
   "version": "3.8.3"
  }
 },
 "nbformat": 4,
 "nbformat_minor": 4
}
